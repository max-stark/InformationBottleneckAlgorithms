{
 "cells": [
  {
   "cell_type": "markdown",
   "metadata": {},
   "source": [
    "# Generating the Input Joint Distribtution "
   ]
  },
  {
   "cell_type": "markdown",
   "metadata": {},
   "source": [
    "The first step to apply an information bottleneck algorithm is to define a proper input distribution $p(x,y)$ which describes the relation between the relevant variable $X$ and the observed random variable $Y$ "
   ]
  },
  {
   "cell_type": "markdown",
   "metadata": {},
   "source": [
    "First, we assume an AWGN channel with BPSK transmission."
   ]
  },
  {
   "cell_type": "code",
   "execution_count": 1,
   "metadata": {},
   "outputs": [],
   "source": [
    "import numpy as np\n",
    "from scipy.stats import norm\n",
    "\n",
    "sigma_n2 = 0.1 # Noise variance\n",
    "amplitudes = np.array([-1,+1]) # BPSK amplitudes are +1 and -1\n",
    "\n",
    "p_x = np.array([0.5,0.5]) # uniformly distributed transmit symbols\n",
    "\n",
    "card_Y = 2000 # choose a fine discretization of the cont. variable Y\n",
    "card_T = 16   # cardinality of the compression variable\n",
    "y = np.linspace(norm.ppf(1e-12, loc=amplitudes.min(), scale=np.sqrt(sigma_n2)),\n",
    "                norm.ppf(1-1e-12, loc=amplitudes.max(), scale=np.sqrt(sigma_n2)), card_Y) # define the eventspace\n",
    "delta_y = np.abs(y[1] - y[0])\n",
    "\n",
    "p_y_given_x = np.zeros((y.shape[0],2))\n",
    "for x_idx, x in enumerate(amplitudes):\n",
    "    p_y_given_x[:,x_idx] = norm.pdf(y, loc=x, scale=np.sqrt(sigma_n2))*delta_y\n",
    "    \n",
    "p_y_and_x = p_y_given_x * p_x\n",
    "p_y_and_x /= p_y_and_x.sum()\n"
   ]
  },
  {
   "cell_type": "markdown",
   "metadata": {},
   "source": [
    "Depicting the corresponding conditional distribution $p(y|x)$ yields:"
   ]
  },
  {
   "cell_type": "code",
   "execution_count": 2,
   "metadata": {},
   "outputs": [
    {
     "data": {
      "image/png": "[encoded data removed]",
      "text/plain": [
       "<Figure size 432x288 with 1 Axes>"
      ]
     },
     "metadata": {},
     "output_type": "display_data"
    }
   ],
   "source": [
    "import matplotlib.pyplot as plt\n",
    "%matplotlib inline\n",
    "plt.figure()\n",
    "for x_idx, x in enumerate(amplitudes):\n",
    "    plt.plot(y,p_y_given_x[:,x_idx],label=\"p(y|x=\"+str(x)+\")\")\n",
    "plt.ylabel(\"p(y|x)\")\n",
    "plt.xlabel(\"y\")\n",
    "plt.legend()\n",
    "plt.show()"
   ]
  },
  {
   "cell_type": "markdown",
   "metadata": {},
   "source": [
    "## Running Information Bottleneck Algorithms"
   ]
  },
  {
   "cell_type": "markdown",
   "metadata": {},
   "source": [
    "In this section, we will use three exemplary information bottleneck algorithm to show the syntax of the respective algorithms and how to access the lookup table $p(t|y)$ and the cluster meaning $p(x|t)$."
   ]
  },
  {
   "cell_type": "markdown",
   "metadata": {},
   "source": [
    "### Sequential Symmetric Information Bottleneck Algorithm [LB18]"
   ]
  },
  {
   "cell_type": "code",
   "execution_count": 3,
   "metadata": {},
   "outputs": [],
   "source": [
    "from information_bottleneck.information_bottleneck_algorithms.symmetric_sIB import symmetric_sIB"
   ]
  },
  {
   "cell_type": "code",
   "execution_count": 4,
   "metadata": {},
   "outputs": [
    {
     "name": "stdout",
     "output_type": "stream",
     "text": [
      "Run: [######################################################################] 100.0% 10 / 10    \n",
      "\n",
      "[0.99671077 0.99671077 0.99663618 0.99671077 0.99671077 0.99671077\n",
      " 0.99671077 0.99671077 0.99671077 0.99671077]\n"
     ]
    }
   ],
   "source": [
    "IB_algo = symmetric_sIB(p_x_y_=p_y_and_x,\n",
    "                        card_T_=card_T,\n",
    "                        nror_=10)\n",
    "IB_algo.run_IB_algo()"
   ]
  },
  {
   "cell_type": "code",
   "execution_count": 5,
   "metadata": {},
   "outputs": [
    {
     "name": "stdout",
     "output_type": "stream",
     "text": [
      "----- Mutual Information Comp --- \n",
      "-----  symmetric sIB  ------ \n",
      "MI_XT_s=  0.996710768209693\n",
      "MI_XY_s=  0.9967563279900288\n",
      "ratio=  0.999954291957767\n"
     ]
    }
   ],
   "source": [
    "IB_algo.display_MIs()"
   ]
  },
  {
   "cell_type": "markdown",
   "metadata": {},
   "source": [
    "### Agglomerative Information Bottleneck Algorithm [Slo02]"
   ]
  },
  {
   "cell_type": "code",
   "execution_count": 6,
   "metadata": {},
   "outputs": [],
   "source": [
    "from information_bottleneck.information_bottleneck_algorithms.aIB_class import aIB"
   ]
  },
  {
   "cell_type": "code",
   "execution_count": 7,
   "metadata": {},
   "outputs": [],
   "source": [
    "IB_algo = aIB(p_x_y_=p_y_and_x,\n",
    "              card_T_=card_T)\n",
    "IB_algo.run_IB_algo()"
   ]
  },
  {
   "cell_type": "code",
   "execution_count": 8,
   "metadata": {},
   "outputs": [
    {
     "name": "stdout",
     "output_type": "stream",
     "text": [
      "----- Mutual Information Comp --- \n",
      "-----  agglomerative IB  ------ \n",
      "MI_XT_s=  0.9967042556375114\n",
      "MI_XY_s=  0.9967563279900288\n",
      "ratio=  0.999947758192193\n"
     ]
    }
   ],
   "source": [
    "IB_algo.display_MIs()"
   ]
  },
  {
   "cell_type": "markdown",
   "metadata": {},
   "source": [
    "### KL-Means Algorithm [K17] "
   ]
  },
  {
   "cell_type": "code",
   "execution_count": 9,
   "metadata": {},
   "outputs": [],
   "source": [
    "from information_bottleneck.information_bottleneck_algorithms.KLmeansIB_class import KLmeansIB as KLmeans"
   ]
  },
  {
   "cell_type": "code",
   "execution_count": 10,
   "metadata": {},
   "outputs": [
    {
     "name": "stderr",
     "output_type": "stream",
     "text": [
      "\r",
      "                                                                               \r",
      "\r",
      " [Elapsed Time: 0:00:00] |                                  | (ETA:  --:--:--) "
     ]
    },
    {
     "name": "stdout",
     "output_type": "stream",
     "text": [
      "###  OPENCL Device #####\n",
      "[<pyopencl.Device 'Intel(R) UHD Graphics 620' on 'Intel(R) OpenCL' at 0x2206dbc4c70>]\n"
     ]
    },
    {
     "name": "stderr",
     "output_type": "stream",
     "text": [
      " [Elapsed Time: 0:00:23] |##################################| (Time:  0:00:23) \n"
     ]
    },
    {
     "name": "stdout",
     "output_type": "stream",
     "text": [
      "Winner finished in  62.0  iterations.\n",
      "Average number of iterations to finished: 62.17\n"
     ]
    }
   ],
   "source": [
    "IB_algo = KLmeans(p_x_y_=p_y_and_x,\n",
    "              card_T_=card_T,\n",
    "              nror=100)\n",
    "IB_algo.run_IB_algo()"
   ]
  },
  {
   "cell_type": "code",
   "execution_count": 11,
   "metadata": {},
   "outputs": [
    {
     "name": "stdout",
     "output_type": "stream",
     "text": [
      "----- Mutual Information Comp --- \n",
      "-----  KL means IB  ------ \n",
      "MI_XT_s=  0.996709002779566\n",
      "MI_XY_s=  0.9967563279900288\n",
      "ratio=  0.9999525207825284\n"
     ]
    }
   ],
   "source": [
    "IB_algo.display_MIs()"
   ]
  },
  {
   "cell_type": "markdown",
   "metadata": {},
   "source": [
    "## Reading the Outputs of the Algorithm"
   ]
  },
  {
   "cell_type": "code",
   "execution_count": 12,
   "metadata": {},
   "outputs": [],
   "source": [
    "# LUT p(t|y)\n",
    "p_t_given_y = IB_algo.p_t_given_y\n",
    "LUT = np.argmax(IB_algo.p_t_given_y,axis=1)\n",
    "\n",
    "# Meaning p(x|t)\n",
    "p_x_given_t = IB_algo.p_x_given_t"
   ]
  },
  {
   "cell_type": "code",
   "execution_count": 13,
   "metadata": {},
   "outputs": [
    {
     "data": {
      "text/plain": [
       "Text(0,0.5,'L(x|t)')"
      ]
     },
     "execution_count": 13,
     "metadata": {},
     "output_type": "execute_result"
    },
    {
     "data": {
      "image/png": "[encoded data removed]",
      "text/plain": [
       "<Figure size 432x288 with 1 Axes>"
      ]
     },
     "metadata": {},
     "output_type": "display_data"
    }
   ],
   "source": [
    "plt.stem(np.arange(card_T),np.log(p_x_given_t[:,1]/p_x_given_t[:,0]))\n",
    "plt.title(\"Meaning p(x|t) as LLRs\")\n",
    "plt.xlabel(\"t\")\n",
    "plt.ylabel(\"L(x|t)\")"
   ]
  },
  {
   "cell_type": "markdown",
   "metadata": {},
   "source": [
    "## References\n",
    "- [LB18] J. Lewandowsky and G. Bauch, “Information-Optimum LDPC Decoders Based on the Information Bottleneck Method,” IEEE Access, vol. 6, pp. 4054–4071, 2018.\n",
    "- [Slo02] N. Slonim, “The Information Bottleneck Theory and Applications,” Hebrew University of Jerusalem, 2002.\n",
    "- [K17] B. M. Kurkoski, “On the relationship between the KL means algorithm and the information bottleneck method,”in SCC 2017; 11th International ITG Conference on Systems, Communications and Coding, Feb 2017, pp. 1–6."
   ]
  },
  {
   "cell_type": "code",
   "execution_count": null,
   "metadata": {},
   "outputs": [],
   "source": []
  }
 ],
 "metadata": {
  "kernelspec": {
   "display_name": "Python [conda env:py36]",
   "language": "python",
   "name": "conda-env-py36-py"
  },
  "language_info": {
   "codemirror_mode": {
    "name": "ipython",
    "version": 3
   },
   "file_extension": ".py",
   "mimetype": "text/x-python",
   "name": "python",
   "nbconvert_exporter": "python",
   "pygments_lexer": "ipython3",
   "version": "3.6.5"
  }
 },
 "nbformat": 4,
 "nbformat_minor": 2
}
