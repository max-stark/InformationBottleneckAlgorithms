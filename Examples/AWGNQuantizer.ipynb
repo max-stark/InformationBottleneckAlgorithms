{
 "cells": [
  {
   "cell_type": "markdown",
   "metadata": {},
   "source": [
    "# Generating the Input Joint Distribtution "
   ]
  },
  {
   "cell_type": "markdown",
   "metadata": {},
   "source": [
    "The first step to apply an information bottleneck algorithm is to define a proper input distribution $p(x,y)$ which describes the relation between the relevant variable $X$ and the observed random variable $Y$ "
   ]
  },
  {
   "cell_type": "markdown",
   "metadata": {},
   "source": [
    "First, we assume an AWGN channel with BPSK transmission."
   ]
  },
  {
   "cell_type": "code",
   "execution_count": 1,
   "metadata": {},
   "outputs": [],
   "source": [
    "import numpy as np\n",
    "from scipy.stats import norm\n",
    "\n",
    "sigma_n2 = 0.1 # Noise variance\n",
    "amplitudes = np.array([-1,+1]) # BPSK amplitudes are +1 and -1\n",
    "\n",
    "p_x = np.array([0.5,0.5]) # uniformly distributed transmit symbols\n",
    "\n",
    "card_Y = 2000 # choose a fine discretization of the cont. variable Y\n",
    "card_T = 16   # cardinality of the compression variable\n",
    "y = np.linspace(norm.ppf(1e-12, loc=amplitudes.min(), scale=np.sqrt(sigma_n2)),\n",
    "                norm.ppf(1-1e-12, loc=amplitudes.max(), scale=np.sqrt(sigma_n2)), card_Y) # define the eventspace\n",
    "delta_y = np.abs(y[1] - y[0])\n",
    "\n",
    "p_y_given_x = np.zeros((y.shape[0],2))\n",
    "for x_idx, x in enumerate(amplitudes):\n",
    "    p_y_given_x[:,x_idx] = norm.pdf(y, loc=x, scale=np.sqrt(sigma_n2))*delta_y\n",
    "    \n",
    "p_y_and_x = p_y_given_x * p_x\n",
    "p_y_and_x /= p_y_and_x.sum()\n"
   ]
  },
  {
   "cell_type": "markdown",
   "metadata": {},
   "source": [
    "Depicting the corresponding conditional distribution $p(y|x)$ yields:"
   ]
  },
  {
   "cell_type": "code",
   "execution_count": 2,
   "metadata": {},
   "outputs": [
    {
     "data": {
      "image/png": "[encoded data removed]",
      "text/plain": [
       "<matplotlib.figure.Figure at 0x24c099c16d8>"
      ]
     },
     "metadata": {},
     "output_type": "display_data"
    }
   ],
   "source": [
    "import matplotlib.pyplot as plt\n",
    "%matplotlib inline\n",
    "plt.figure()\n",
    "for x_idx, x in enumerate(amplitudes):\n",
    "    plt.plot(y,p_y_given_x[:,x_idx],label=\"p(y|x=\"+str(x)+\")\")\n",
    "plt.ylabel(\"p(y|x)\")\n",
    "plt.xlabel(\"y\")\n",
    "plt.legend()\n",
    "plt.show()"
   ]
  },
  {
   "cell_type": "markdown",
   "metadata": {},
   "source": [
    "## Running Information Bottleneck Algorithms"
   ]
  },
  {
   "cell_type": "markdown",
   "metadata": {},
   "source": [
    "In this section, we will use three exemplary information bottleneck algorithm to show the syntax of the respective algorithms and how to access the lookup table $p(t|y)$ and the cluster meaning $p(x|t)$."
   ]
  },
  {
   "cell_type": "markdown",
   "metadata": {},
   "source": [
    "### Sequential Symmetric Information Bottleneck Algorithm [LB18]"
   ]
  },
  {
   "cell_type": "code",
   "execution_count": 3,
   "metadata": {},
   "outputs": [],
   "source": [
    "from information_bottleneck.information_bottleneck_algorithms.symmetric_sIB import symmetric_sIB"
   ]
  },
  {
   "cell_type": "code",
   "execution_count": 4,
   "metadata": {},
   "outputs": [
    {
     "name": "stdout",
     "output_type": "stream",
     "text": [
      "Run: [######################################################################] 100.0% 10 / 10    \n",
      "\n",
      "[ 0.99671077  0.99671077  0.99671077  0.99671077  0.99671077  0.99671077\n",
      "  0.99671077  0.99671077  0.99671077  0.99671077]\n"
     ]
    }
   ],
   "source": [
    "IB_algo = symmetric_sIB(p_x_y_=p_y_and_x,\n",
    "                        card_T_=card_T,\n",
    "                        nror_=10)\n",
    "IB_algo.run_IB_algo()"
   ]
  },
  {
   "cell_type": "code",
   "execution_count": 5,
   "metadata": {},
   "outputs": [
    {
     "name": "stdout",
     "output_type": "stream",
     "text": [
      "----- Mutual Information Comp --- \n",
      "-----  symmetric sIB  ------ \n",
      "MI_XT_s=  0.99671076821\n",
      "MI_XY_s=  0.99675632799\n",
      "ratio=  0.999954291958\n"
     ]
    }
   ],
   "source": [
    "IB_algo.display_MIs()"
   ]
  },
  {
   "cell_type": "markdown",
   "metadata": {},
   "source": [
    "### Agglomerative Information Bottleneck Algorithm [Slo02]"
   ]
  },
  {
   "cell_type": "code",
   "execution_count": 6,
   "metadata": {},
   "outputs": [],
   "source": [
    "from information_bottleneck.information_bottleneck_algorithms.aIB_class import aIB"
   ]
  },
  {
   "cell_type": "code",
   "execution_count": 7,
   "metadata": {},
   "outputs": [],
   "source": [
    "IB_algo = aIB(p_x_y_=p_y_and_x,\n",
    "              card_T_=card_T)\n",
    "IB_algo.run_IB_algo()"
   ]
  },
  {
   "cell_type": "code",
   "execution_count": 8,
   "metadata": {},
   "outputs": [
    {
     "name": "stdout",
     "output_type": "stream",
     "text": [
      "----- Mutual Information Comp --- \n",
      "-----  agglomerative IB  ------ \n",
      "MI_XT_s=  0.996704255638\n",
      "MI_XY_s=  0.99675632799\n",
      "ratio=  0.999947758192\n"
     ]
    }
   ],
   "source": [
    "IB_algo.display_MIs()"
   ]
  },
  {
   "cell_type": "markdown",
   "metadata": {},
   "source": [
    "### KL-Means Algorithm [K17] "
   ]
  },
  {
   "cell_type": "code",
   "execution_count": 9,
   "metadata": {},
   "outputs": [],
   "source": [
    "from information_bottleneck.information_bottleneck_algorithms.KLmeansIB_class import KLmeansIB as KLmeans"
   ]
  },
  {
   "cell_type": "markdown",
   "metadata": {},
   "source": [
    "The KL-Means Algorithm uses PyOpenCl. First, you need to choose a context/plattform. This choice depends on your hardware the drivers etc."
   ]
  },
  {
   "cell_type": "code",
   "execution_count": 10,
   "metadata": {},
   "outputs": [],
   "source": [
    "import os\n",
    "os.environ['PYOPENCL_CTX'] = '0'"
   ]
  },
  {
   "cell_type": "code",
   "execution_count": 11,
   "metadata": {},
   "outputs": [
    {
     "name": "stderr",
     "output_type": "stream",
     "text": [
      "\r",
      "                                                                               \r",
      "\r",
      " [Elapsed Time: 0:00:00] |                                  | (ETA:  --:--:--) "
     ]
    },
    {
     "name": "stdout",
     "output_type": "stream",
     "text": [
      "###  OPENCL Device #####\n",
      "[<pyopencl.Device 'GeForce GTX 1050 Ti' on 'NVIDIA CUDA' at 0x24c07e13500>]\n"
     ]
    },
    {
     "name": "stderr",
     "output_type": "stream",
     "text": [
      " [Elapsed Time: 0:00:26] |###################################| (Time: 0:00:26) \n"
     ]
    },
    {
     "name": "stdout",
     "output_type": "stream",
     "text": [
      "Winner finished in  62.0  iterations.\n",
      "Average number of iterations to finished: 62.09\n"
     ]
    }
   ],
   "source": [
    "IB_algo = KLmeans(p_x_y_=p_y_and_x,\n",
    "                  card_T_=card_T,\n",
    "                  symmetric_init = True,\n",
    "                  nror=100)\n",
    "IB_algo.run_IB_algo()"
   ]
  },
  {
   "cell_type": "code",
   "execution_count": 12,
   "metadata": {},
   "outputs": [
    {
     "name": "stdout",
     "output_type": "stream",
     "text": [
      "----- Mutual Information Comp --- \n",
      "-----  KL means IB  ------ \n",
      "MI_XT_s=  0.99670900278\n",
      "MI_XY_s=  0.99675632799\n",
      "ratio=  0.999952520783\n"
     ]
    }
   ],
   "source": [
    "IB_algo.display_MIs()"
   ]
  },
  {
   "cell_type": "markdown",
   "metadata": {},
   "source": [
    "## Reading the Outputs of the Algorithm"
   ]
  },
  {
   "cell_type": "code",
   "execution_count": 13,
   "metadata": {},
   "outputs": [],
   "source": [
    "# LUT p(t|y)\n",
    "p_t_given_y, p_x_given_t, p_t  = IB_algo.get_results()\n",
    "LUT = np.argmax(IB_algo.p_t_given_y,axis=1)"
   ]
  },
  {
   "cell_type": "code",
   "execution_count": 14,
   "metadata": {},
   "outputs": [
    {
     "data": {
      "text/plain": [
       "<matplotlib.text.Text at 0x24c0ab7a860>"
      ]
     },
     "execution_count": 14,
     "metadata": {},
     "output_type": "execute_result"
    },
    {
     "data": {
      "image/png": "[encoded data removed]",
      "text/plain": [
       "<matplotlib.figure.Figure at 0x24c0a22ae80>"
      ]
     },
     "metadata": {},
     "output_type": "display_data"
    }
   ],
   "source": [
    "plt.stem(np.arange(card_T),np.log(p_x_given_t[:,1]/p_x_given_t[:,0]))\n",
    "plt.title(\"Meaning p(x|t) as LLRs\")\n",
    "plt.xlabel(\"t\")\n",
    "plt.ylabel(\"L(x|t)\")"
   ]
  },
  {
   "cell_type": "markdown",
   "metadata": {},
   "source": [
    "## References\n",
    "- [SLB18b] M. Stark, J. Lewandowsky, and G. Bauch, “Information-Bottleneck Decoding of High-Rate Irregular LDPC Codes for Optical Communication Using Message Alignment”, Applied Science. 2018; 8(10):1884\n",
    "- [LB18] J. Lewandowsky and G. Bauch, “Information-Optimum LDPC Decoders Based on the Information Bottleneck Method,” IEEE Access, vol. 6, pp. 4054–4071, 2018.\n",
    "- [Slo02] N. Slonim, “The Information Bottleneck Theory and Applications,” Hebrew University of Jerusalem, 2002.\n",
    "- [K17] B. M. Kurkoski, “On the relationship between the KL means algorithm and the information bottleneck method,” in Proc. SCC 2017; 11th International ITG Conference on Systems, Communications and Coding, Feb 2017, pp. 1–6."
   ]
  },
  {
   "cell_type": "code",
   "execution_count": null,
   "metadata": {},
   "outputs": [],
   "source": []
  }
 ],
 "metadata": {
  "kernelspec": {
   "display_name": "Python 3",
   "language": "python",
   "name": "python3"
  },
  "language_info": {
   "codemirror_mode": {
    "name": "ipython",
    "version": 3
   },
   "file_extension": ".py",
   "mimetype": "text/x-python",
   "name": "python",
   "nbconvert_exporter": "python",
   "pygments_lexer": "ipython3",
   "version": "3.6.0"
  }
 },
 "nbformat": 4,
 "nbformat_minor": 2
}
