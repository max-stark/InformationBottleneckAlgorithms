{
 "cells": [
  {
   "cell_type": "markdown",
   "metadata": {},
   "source": [
    "# Generating the input joint distribtution "
   ]
  },
  {
   "cell_type": "markdown",
   "metadata": {},
   "source": [
    "The first step to apply an information bottleneck algorithm is to define a proper input distribution $p(x,y)$ which describes the relation between the relevant variable $X$ and the observed random variable $Y$ "
   ]
  },
  {
   "cell_type": "markdown",
   "metadata": {},
   "source": [
    "First we assume an AWGN channel with BPSK transmission."
   ]
  },
  {
   "cell_type": "code",
   "execution_count": 1,
   "metadata": {},
   "outputs": [],
   "source": [
    "import numpy as np\n",
    "from scipy.stats import norm\n",
    "\n",
    "sigma_n2 = 0.1 # Noise variance\n",
    "amplitudes = np.array([-1,+1]) # BPSK amplitudes are +1 and -1\n",
    "\n",
    "p_x = np.array([0.5,0.5]) # uniformly distributed transmit symbols\n",
    "\n",
    "card_Y = 2000 # choose a fine discretization of the cont. variable Y\n",
    "y = np.linspace(norm.ppf(1e-12, loc=amplitudes.min(), scale=np.sqrt(sigma_n2)),\n",
    "                norm.ppf(1-1e-12, loc=amplitudes.max(), scale=np.sqrt(sigma_n2)), card_Y) # define the eventspace\n",
    "delta_y = np.abs(y[1] - y[0])\n",
    "\n",
    "p_y_given_x = np.zeros((y.shape[0],2))\n",
    "for x_idx, x in enumerate(amplitudes):\n",
    "    p_y_given_x[:,x_idx] = norm.pdf(y, loc=x, scale=np.sqrt(sigma_n2))*delta_y\n",
    "    \n",
    "p_y_and_x = p_y_given_x * p_x\n",
    "p_y_and_x /= p_y_and_x.sum()\n"
   ]
  },
  {
   "cell_type": "code",
   "execution_count": 2,
   "metadata": {},
   "outputs": [
    {
     "data": {
      "image/png": "[encoded data removed]",
      "text/plain": [
       "<Figure size 432x288 with 1 Axes>"
      ]
     },
     "metadata": {
      "needs_background": "light"
     },
     "output_type": "display_data"
    }
   ],
   "source": [
    "import matplotlib.pyplot as plt\n",
    "%matplotlib inline\n",
    "plt.figure()\n",
    "for x_idx, x in enumerate(amplitudes):\n",
    "    plt.plot(y,p_y_given_x[:,x_idx],label=\"p(y|x=\"+str(x)+\")\")\n",
    "plt.ylabel(\"p(y|x)\")\n",
    "plt.xlabel(\"y\")\n",
    "plt.legend()\n",
    "plt.show()"
   ]
  },
  {
   "cell_type": "markdown",
   "metadata": {},
   "source": [
    "## Running Information Bottleneck Algorithms"
   ]
  },
  {
   "cell_type": "markdown",
   "metadata": {},
   "source": [
    "### Sequential Symmetric Information Bottleneck Algorithm [LB18]"
   ]
  },
  {
   "cell_type": "code",
   "execution_count": 3,
   "metadata": {},
   "outputs": [],
   "source": [
    "from information_bottleneck.information_bottleneck_algorithms.symmetric_sIB import symmetric_sIB"
   ]
  },
  {
   "cell_type": "code",
   "execution_count": 7,
   "metadata": {},
   "outputs": [
    {
     "name": "stdout",
     "output_type": "stream",
     "text": [
      "Run: [######################################################################] 100.0% 10 / 10    \n",
      "\n",
      "[0.99671077 0.99671077 0.99671077 0.99669739 0.99669739 0.99671077\n",
      " 0.99669739 0.99671077 0.99671077 0.99671077]\n"
     ]
    }
   ],
   "source": [
    "IB_algo = symmetric_sIB(p_x_y_=p_y_and_x,\n",
    "                        card_T_=16,\n",
    "                        nror_=10)\n",
    "IB_algo.run_IB_algo()"
   ]
  },
  {
   "cell_type": "code",
   "execution_count": 5,
   "metadata": {},
   "outputs": [
    {
     "name": "stdout",
     "output_type": "stream",
     "text": [
      "----- Mutual Information Comp --- \n",
      "-----  symmetric sIB  ------ \n",
      "MI_XT_s=  0.996710768209693\n",
      "MI_XY_s=  0.9967563279900288\n",
      "ratio=  0.999954291957767\n"
     ]
    }
   ],
   "source": [
    "IB_algo.display_MIs()"
   ]
  },
  {
   "cell_type": "code",
   "execution_count": 13,
   "metadata": {},
   "outputs": [
    {
     "data": {
      "text/plain": [
       "array([[1., 0., 0., ..., 0., 0., 0.],\n",
       "       [1., 0., 0., ..., 0., 0., 0.],\n",
       "       [1., 0., 0., ..., 0., 0., 0.],\n",
       "       ...,\n",
       "       [0., 0., 0., ..., 0., 0., 1.],\n",
       "       [0., 0., 0., ..., 0., 0., 1.],\n",
       "       [0., 0., 0., ..., 0., 0., 1.]])"
      ]
     },
     "execution_count": 13,
     "metadata": {},
     "output_type": "execute_result"
    }
   ],
   "source": [
    "IB_algo.p_t_given_y"
   ]
  },
  {
   "cell_type": "code",
   "execution_count": 15,
   "metadata": {},
   "outputs": [],
   "source": [
    "LUT = np.argmax(IB_algo.p_t_given_y,axis=1)"
   ]
  },
  {
   "cell_type": "code",
   "execution_count": null,
   "metadata": {},
   "outputs": [],
   "source": []
  },
  {
   "cell_type": "markdown",
   "metadata": {},
   "source": [
    "### Agglomerative Information Bottleneck Algorithm [Slo02]"
   ]
  },
  {
   "cell_type": "code",
   "execution_count": 19,
   "metadata": {},
   "outputs": [],
   "source": [
    "from information_bottleneck.information_bottleneck_algorithms.aIB_class import aIB"
   ]
  },
  {
   "cell_type": "code",
   "execution_count": 20,
   "metadata": {},
   "outputs": [],
   "source": [
    "IB_algo = aIB(p_x_y_=p_y_and_x,\n",
    "              card_T_=16)\n",
    "IB_algo.run_IB_algo()"
   ]
  },
  {
   "cell_type": "code",
   "execution_count": 21,
   "metadata": {},
   "outputs": [
    {
     "name": "stdout",
     "output_type": "stream",
     "text": [
      "----- Mutual Information Comp --- \n",
      "-----  agglomerative IB  ------ \n",
      "MI_XT_s=  0.9967042556375114\n",
      "MI_XY_s=  0.9967563279900288\n",
      "ratio=  0.999947758192193\n"
     ]
    }
   ],
   "source": [
    "IB_algo.display_MIs()"
   ]
  },
  {
   "cell_type": "markdown",
   "metadata": {},
   "source": [
    "### KL-Means Algorithm [Kurkowski]"
   ]
  },
  {
   "cell_type": "code",
   "execution_count": 24,
   "metadata": {},
   "outputs": [
    {
     "ename": "ModuleNotFoundError",
     "evalue": "No module named 'pyopencl'",
     "output_type": "error",
     "traceback": [
      "\u001b[1;31m---------------------------------------------------------------------------\u001b[0m",
      "\u001b[1;31mModuleNotFoundError\u001b[0m                       Traceback (most recent call last)",
      "\u001b[1;32m<ipython-input-24-039e30184793>\u001b[0m in \u001b[0;36m<module>\u001b[1;34m()\u001b[0m\n\u001b[1;32m----> 1\u001b[1;33m \u001b[1;32mfrom\u001b[0m \u001b[0minformation_bottleneck\u001b[0m\u001b[1;33m.\u001b[0m\u001b[0minformation_bottleneck_algorithms\u001b[0m\u001b[1;33m.\u001b[0m\u001b[0mKLmeansIB_class\u001b[0m \u001b[1;32mimport\u001b[0m \u001b[0mKLMeans\u001b[0m\u001b[1;33m\u001b[0m\u001b[0m\n\u001b[0m",
      "\u001b[1;32m~\\AppData\\Local\\Continuum\\anaconda3\\lib\\site-packages\\ib_base-1.0-py3.6-win-amd64.egg\\information_bottleneck\\information_bottleneck_algorithms\\KLmeansIB_class.py\u001b[0m in \u001b[0;36m<module>\u001b[1;34m()\u001b[0m\n\u001b[0;32m      4\u001b[0m \u001b[1;32mimport\u001b[0m \u001b[0mitertools\u001b[0m\u001b[1;33m\u001b[0m\u001b[0m\n\u001b[0;32m      5\u001b[0m \u001b[1;32mimport\u001b[0m \u001b[0mmatplotlib\u001b[0m\u001b[1;33m.\u001b[0m\u001b[0mpyplot\u001b[0m \u001b[1;32mas\u001b[0m \u001b[0mplt\u001b[0m\u001b[1;33m\u001b[0m\u001b[0m\n\u001b[1;32m----> 6\u001b[1;33m \u001b[1;32mimport\u001b[0m \u001b[0mpyopencl\u001b[0m \u001b[1;32mas\u001b[0m \u001b[0mcl\u001b[0m\u001b[1;33m\u001b[0m\u001b[0m\n\u001b[0m\u001b[0;32m      7\u001b[0m \u001b[1;32mimport\u001b[0m \u001b[0mpyopencl\u001b[0m\u001b[1;33m.\u001b[0m\u001b[0mtools\u001b[0m \u001b[1;32mas\u001b[0m \u001b[0mcl_tools\u001b[0m\u001b[1;33m\u001b[0m\u001b[0m\n\u001b[0;32m      8\u001b[0m \u001b[1;32mimport\u001b[0m \u001b[0mpyopencl\u001b[0m\u001b[1;33m.\u001b[0m\u001b[0marray\u001b[0m \u001b[1;32mas\u001b[0m \u001b[0mcl_array\u001b[0m\u001b[1;33m\u001b[0m\u001b[0m\n",
      "\u001b[1;31mModuleNotFoundError\u001b[0m: No module named 'pyopencl'"
     ]
    }
   ],
   "source": [
    "from information_bottleneck.information_bottleneck_algorithms.KLmeansIB_class import KLMeans"
   ]
  },
  {
   "cell_type": "code",
   "execution_count": null,
   "metadata": {},
   "outputs": [],
   "source": [
    "IB_algo = KLMeans(p_x_y_=p_y_and_x,\n",
    "              card_T_=16,\n",
    "              nror_=100)\n",
    "IB_algo.run_IB_algo()"
   ]
  },
  {
   "cell_type": "markdown",
   "metadata": {},
   "source": [
    "## References\n",
    "    [LB18]\n",
    "    [Slo02]"
   ]
  },
  {
   "cell_type": "code",
   "execution_count": null,
   "metadata": {},
   "outputs": [],
   "source": []
  }
 ],
 "metadata": {
  "kernelspec": {
   "display_name": "Python 3",
   "language": "python",
   "name": "python3"
  },
  "language_info": {
   "codemirror_mode": {
    "name": "ipython",
    "version": 3
   },
   "file_extension": ".py",
   "mimetype": "text/x-python",
   "name": "python",
   "nbconvert_exporter": "python",
   "pygments_lexer": "ipython3",
   "version": "3.6.5"
  }
 },
 "nbformat": 4,
 "nbformat_minor": 2
}
